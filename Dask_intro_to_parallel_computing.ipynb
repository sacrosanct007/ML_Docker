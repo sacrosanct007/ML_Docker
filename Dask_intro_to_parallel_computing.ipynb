{
 "cells": [
  {
   "cell_type": "markdown",
   "metadata": {},
   "source": [
    "https://towardsdatascience.com/exploring-your-data-with-just-1-line-of-python-4b35ce21a82d"
   ]
  },
  {
   "cell_type": "code",
   "execution_count": 11,
   "metadata": {},
   "outputs": [],
   "source": [
    "import dask\n",
    "import numpy as np\n",
    "import pandas as pd"
   ]
  },
  {
   "cell_type": "code",
   "execution_count": 2,
   "metadata": {},
   "outputs": [
    {
     "data": {
      "text/html": [
       "<table style=\"border: 2px solid white;\">\n",
       "<tr>\n",
       "<td style=\"vertical-align: top; border: 0px solid white\">\n",
       "<h3 style=\"text-align: left;\">Client</h3>\n",
       "<ul style=\"text-align: left; list-style: none; margin: 0; padding: 0;\">\n",
       "  <li><b>Scheduler: </b>tcp://127.0.0.1:64517</li>\n",
       "  <li><b>Dashboard: </b><a href='http://127.0.0.1:8787/status' target='_blank'>http://127.0.0.1:8787/status</a>\n",
       "</ul>\n",
       "</td>\n",
       "<td style=\"vertical-align: top; border: 0px solid white\">\n",
       "<h3 style=\"text-align: left;\">Cluster</h3>\n",
       "<ul style=\"text-align: left; list-style:none; margin: 0; padding: 0;\">\n",
       "  <li><b>Workers: </b>5</li>\n",
       "  <li><b>Cores: </b>5</li>\n",
       "  <li><b>Memory: </b>10.00 GB</li>\n",
       "</ul>\n",
       "</td>\n",
       "</tr>\n",
       "</table>"
      ],
      "text/plain": [
       "<Client: 'tcp://127.0.0.1:64517' processes=5 threads=5, memory=10.00 GB>"
      ]
     },
     "execution_count": 2,
     "metadata": {},
     "output_type": "execute_result"
    }
   ],
   "source": [
    "from dask.distributed import Client, progress\n",
    "\n",
    "try:\n",
    "    client.close()\n",
    "    client= Client(threads_per_worker=1, n_workers=5, memory_limit='2GB')\n",
    "except:\n",
    "    client= Client(threads_per_worker=1, n_workers=5, memory_limit='2GB')\n",
    "    \n",
    "client"
   ]
  },
  {
   "cell_type": "code",
   "execution_count": 4,
   "metadata": {},
   "outputs": [],
   "source": [
    "def simulate_dataset(i):\n",
    "    g=10\n",
    "    k=100000\n",
    "    \n",
    "    categories = np.random.choice(a=np.arange(g), size=k)\n",
    "    values= [(j+1)*np.random.random(k//g) for j in range(g)]\n",
    "    values= np.concatenate(values)\n",
    "    \n",
    "    data=pd.DataFrame({'çategory':categories, 'values':values})\n",
    "    data_out= data.groupby('category').apply(lambda df: [df.loc[:,'values'].mean(), \n",
    "                                                        df.loc[:,'values'].std()])\n",
    "    return(data_out)"
   ]
  },
  {
   "cell_type": "markdown",
   "metadata": {},
   "source": [
    "The above function could be any complex analysis etc as long as it is self contained. Each iteration can be run independently and does not reuire communication with other threads and only inputs at the beginning of simulation."
   ]
  },
  {
   "cell_type": "markdown",
   "metadata": {},
   "source": [
    "<b> Run simulation in a for loop n times"
   ]
  },
  {
   "cell_type": "code",
   "execution_count": null,
   "metadata": {},
   "outputs": [],
   "source": [
    "%%timeit\n",
    "\n",
    "results = {}\n",
    "\n",
    "for i in range(n):\n",
    "    results[i] = simulate_dataset(i)"
   ]
  },
  {
   "cell_type": "markdown",
   "metadata": {},
   "source": [
    "<b> Run simulation with Dask n times"
   ]
  },
  {
   "cell_type": "code",
   "execution_count": null,
   "metadata": {},
   "outputs": [],
   "source": [
    "%%timeit\n",
    "\n",
    "results_interim={}\n",
    "for i in range(n):\n",
    "    results_interim[i]= delayed(simulate_dataset)(i)\n",
    "    \n",
    "results_scheduled=delayed(list)(results_interim)\n",
    "results=results_scheduled.compute()"
   ]
  },
  {
   "cell_type": "code",
   "execution_count": null,
   "metadata": {},
   "outputs": [],
   "source": []
  }
 ],
 "metadata": {
  "kernelspec": {
   "display_name": "Python 3",
   "language": "python",
   "name": "python3"
  },
  "language_info": {
   "codemirror_mode": {
    "name": "ipython",
    "version": 3
   },
   "file_extension": ".py",
   "mimetype": "text/x-python",
   "name": "python",
   "nbconvert_exporter": "python",
   "pygments_lexer": "ipython3",
   "version": "3.7.3"
  }
 },
 "nbformat": 4,
 "nbformat_minor": 2
}
